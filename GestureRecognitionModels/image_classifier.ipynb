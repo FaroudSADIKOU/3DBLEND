{
 "metadata": {
  "language_info": {
   "codemirror_mode": {
    "name": "ipython",
    "version": 3
   },
   "file_extension": ".py",
   "mimetype": "text/x-python",
   "name": "python",
   "nbconvert_exporter": "python",
   "pygments_lexer": "ipython3",
   "version": "3.7.9-final"
  },
  "orig_nbformat": 2,
  "kernelspec": {
   "name": "python3",
   "display_name": "Python 3.7.9 64-bit",
   "metadata": {
    "interpreter": {
     "hash": "b888e72ee20ccbe5d27c4df728a43c5e2c824ce3e7c4ba5b073beb01c06f755c"
    }
   }
  }
 },
 "nbformat": 4,
 "nbformat_minor": 2,
 "cells": [
  {
   "cell_type": "code",
   "execution_count": 1,
   "metadata": {},
   "outputs": [],
   "source": [
    "import numpy as np \n",
    "import os\n",
    "import glob\n",
    "import re\n",
    "import matplotlib.image as mpimg \n",
    "import matplotlib.pyplot as plt \n",
    "from skimage.transform import resize, rescale"
   ]
  },
  {
   "cell_type": "code",
   "execution_count": 2,
   "metadata": {
    "tags": []
   },
   "outputs": [
    {
     "output_type": "stream",
     "name": "stdout",
     "text": [
      "user : ./MultiModHandGestRecog/near-infrared\\user_01 done\n",
      "user : ./MultiModHandGestRecog/near-infrared\\user_02 done\n",
      "user : ./MultiModHandGestRecog/near-infrared\\user_03 done\n",
      "user : ./MultiModHandGestRecog/near-infrared\\user_04 done\n",
      "user : ./MultiModHandGestRecog/near-infrared\\user_05 done\n",
      "user : ./MultiModHandGestRecog/near-infrared\\user_06 done\n",
      "user : ./MultiModHandGestRecog/near-infrared\\user_07 done\n",
      "user : ./MultiModHandGestRecog/near-infrared\\user_08 done\n",
      "user : ./MultiModHandGestRecog/near-infrared\\user_09 done\n",
      "user : ./MultiModHandGestRecog/near-infrared\\user_10 done\n",
      "user : ./MultiModHandGestRecog/near-infrared\\user_11 done\n",
      "user : ./MultiModHandGestRecog/near-infrared\\user_12 done\n",
      "user : ./MultiModHandGestRecog/near-infrared\\user_13 done\n",
      "user : ./MultiModHandGestRecog/near-infrared\\user_14 done\n",
      "user : ./MultiModHandGestRecog/near-infrared\\user_15 done\n",
      "user : ./MultiModHandGestRecog/near-infrared\\user_16 done\n",
      "user : ./MultiModHandGestRecog/near-infrared\\user_17 done\n",
      "user : ./MultiModHandGestRecog/near-infrared\\user_18 done\n",
      "user : ./MultiModHandGestRecog/near-infrared\\user_19 done\n",
      "user : ./MultiModHandGestRecog/near-infrared\\user_20 done\n",
      "user : ./MultiModHandGestRecog/near-infrared\\user_21 done\n",
      "user : ./MultiModHandGestRecog/near-infrared\\user_22 done\n",
      "user : ./MultiModHandGestRecog/near-infrared\\user_23 done\n",
      "user : ./MultiModHandGestRecog/near-infrared\\user_24 done\n",
      "user : ./MultiModHandGestRecog/near-infrared\\user_25 done\n"
     ]
    }
   ],
   "source": [
    "path = \"./MultiModHandGestRecog/near-infrared/\"\n",
    "\n",
    "train_data = []\n",
    "train_labels = []\n",
    "\n",
    "userList = glob.glob(\"./MultiModHandGestRecog/near-infrared/*\")\n",
    "for user in userList:\n",
    "    userTrainPath = user+\"/train_pose/*\"\n",
    "    trainList = glob.glob(userTrainPath)\n",
    "    for gesture in trainList:\n",
    "        imagesPath = gesture+\"/*.png\"\n",
    "        imagesList = glob.glob(imagesPath)\n",
    "        for image in imagesList:\n",
    "            pngFile = mpimg.imread(image)\n",
    "            #rescImage = rescale(pngFile,0.5)\n",
    "            resImage = resize(pngFile,(60,100))\n",
    "            train_data.append(resImage)\n",
    "            label = gesture.split(\"/\")[-1]\n",
    "            train_labels.append(label)\n",
    "    print(\"user : \" + user + \" done\")\n"
   ]
  },
  {
   "cell_type": "code",
   "execution_count": 3,
   "metadata": {},
   "outputs": [
    {
     "output_type": "stream",
     "name": "stdout",
     "text": [
      "user : ./MultiModHandGestRecog/near-infrared\\user_01 done\n",
      "user : ./MultiModHandGestRecog/near-infrared\\user_02 done\n",
      "user : ./MultiModHandGestRecog/near-infrared\\user_03 done\n",
      "user : ./MultiModHandGestRecog/near-infrared\\user_04 done\n",
      "user : ./MultiModHandGestRecog/near-infrared\\user_05 done\n",
      "user : ./MultiModHandGestRecog/near-infrared\\user_06 done\n",
      "user : ./MultiModHandGestRecog/near-infrared\\user_07 done\n",
      "user : ./MultiModHandGestRecog/near-infrared\\user_08 done\n",
      "user : ./MultiModHandGestRecog/near-infrared\\user_09 done\n",
      "user : ./MultiModHandGestRecog/near-infrared\\user_10 done\n",
      "user : ./MultiModHandGestRecog/near-infrared\\user_11 done\n",
      "user : ./MultiModHandGestRecog/near-infrared\\user_12 done\n",
      "user : ./MultiModHandGestRecog/near-infrared\\user_13 done\n",
      "user : ./MultiModHandGestRecog/near-infrared\\user_14 done\n",
      "user : ./MultiModHandGestRecog/near-infrared\\user_15 done\n",
      "user : ./MultiModHandGestRecog/near-infrared\\user_16 done\n",
      "user : ./MultiModHandGestRecog/near-infrared\\user_17 done\n",
      "user : ./MultiModHandGestRecog/near-infrared\\user_18 done\n",
      "user : ./MultiModHandGestRecog/near-infrared\\user_19 done\n",
      "user : ./MultiModHandGestRecog/near-infrared\\user_20 done\n",
      "user : ./MultiModHandGestRecog/near-infrared\\user_21 done\n",
      "user : ./MultiModHandGestRecog/near-infrared\\user_22 done\n",
      "user : ./MultiModHandGestRecog/near-infrared\\user_23 done\n",
      "user : ./MultiModHandGestRecog/near-infrared\\user_24 done\n",
      "user : ./MultiModHandGestRecog/near-infrared\\user_25 done\n"
     ]
    }
   ],
   "source": [
    "test_data = []\n",
    "test_labels = []\n",
    "\n",
    "for user in userList:\n",
    "    userTrainPath = user+\"/test_pose/*\"\n",
    "    trainList = glob.glob(userTrainPath)\n",
    "    for gesture in trainList:\n",
    "        imagesPath = gesture+\"/*.png\"\n",
    "        imagesList = glob.glob(imagesPath)\n",
    "        for image in imagesList:\n",
    "            pngFile = mpimg.imread(image)\n",
    "            #rescImage = rescale(pngFile,0.5)\n",
    "            resImage = resize(pngFile,(60,100))\n",
    "            test_data.append(resImage)\n",
    "            label = gesture.split(\"/\")[-1]\n",
    "            test_labels.append(label)\n",
    "    print(\"user : \" + user + \" done\")"
   ]
  },
  {
   "cell_type": "code",
   "execution_count": 4,
   "metadata": {},
   "outputs": [
    {
     "output_type": "stream",
     "name": "stdout",
     "text": [
      "['hang', 'five', 'up', 'down', 'ok', 'two', 'four', 'fist_moved', 'C', 'palm_m', 'palm_u', 'three', 'palm', 'heavy', 'L', 'index']\n"
     ]
    }
   ],
   "source": [
    "X = np.array(train_data)\n",
    "Y = np.array(train_labels)\n",
    "for i in range(len(Y)):\n",
    "    tmp = Y[i].split(\"\\\\\")\n",
    "    Y[i] = tmp[1]\n",
    "\n",
    "def to_categorical(labels):\n",
    "    label_set = list(set(labels))\n",
    "    print(label_set)\n",
    "    categorical_labels = []\n",
    "    for label in labels:\n",
    "        tmp = np.zeros(len(label_set))\n",
    "        for i in label_set:\n",
    "            if label == i:\n",
    "                tmp[label_set.index(i)] = 1\n",
    "        categorical_labels.append(tmp)\n",
    "    return categorical_labels\n",
    "    \n",
    "Y_cat = np.array(to_categorical(Y))\n",
    "\n",
    "np.save(\"data.npy\",X)\n",
    "np.save(\"labels.npy\",Y)\n",
    "np.save(\"labels_cat.npy\",Y_cat)"
   ]
  },
  {
   "cell_type": "code",
   "execution_count": 12,
   "metadata": {},
   "outputs": [
    {
     "output_type": "stream",
     "name": "stdout",
     "text": [
      "['hang', 'five', 'up', 'down', 'ok', 'two', 'four', 'fist_moved', 'C', 'palm_m', 'palm_u', 'three', 'palm', 'heavy', 'L', 'index']\n"
     ]
    }
   ],
   "source": [
    "X_test = np.array(test_data)\n",
    "Y_test = np.array(test_labels)\n",
    "for i in range(len(Y_test)):\n",
    "    tmp = Y_test[i].split(\"\\\\\")\n",
    "    Y_test[i] = tmp[1]\n",
    "    \n",
    "Y_test_cat = np.array(to_categorical(Y_test))\n",
    "\n",
    "np.save(\"test.npy\",X_test)\n",
    "np.save(\"testlabels.npy\",Y_test)\n",
    "np.save(\"testlabels_cat.npy\",Y_test_cat)"
   ]
  },
  {
   "cell_type": "code",
   "execution_count": 4,
   "metadata": {},
   "outputs": [],
   "source": [
    "#### ONLY EXECUTE TO LOAD ####\n",
    "X = np.load(\"data.npy\",allow_pickle=True)\n",
    "Y = np.load(\"labels.npy\",allow_pickle=True)\n",
    "Y_cat = np.load(\"labels_cat.npy\",allow_pickle=True)\n",
    "\n",
    "X_test = np.load(\"test.npy\",allow_pickle=True)\n",
    "Y_test = np.load(\"testlabels.npy\",allow_pickle=True)\n",
    "Y_test_cat = np.load(\"testlabels_cat.npy\",allow_pickle=True)"
   ]
  },
  {
   "cell_type": "code",
   "execution_count": 13,
   "metadata": {},
   "outputs": [
    {
     "output_type": "stream",
     "name": "stdout",
     "text": [
      "[[0.01791913 0.01795591 0.01883704 ... 0.01320919 0.01296333 0.01330869]\n [0.01837698 0.01837972 0.01697698 ... 0.01158498 0.01380813 0.01559023]\n [0.01760917 0.01845406 0.01759543 ... 0.01385505 0.01511466 0.01449488]\n ...\n [0.01708756 0.0170807  0.01713569 ... 0.01189192 0.0124523  0.01167243]\n [0.01589336 0.01772662 0.01899582 ... 0.01508095 0.01336739 0.01197893]\n [0.01619987 0.01783849 0.01839722 ... 0.01462933 0.0137291  0.01290892]]\nC\n[0. 0. 0. 0. 0. 0. 0. 0. 1. 0. 0. 0. 0. 0. 0. 0.]\n64457 64457\n"
     ]
    },
    {
     "output_type": "display_data",
     "data": {
      "text/plain": "<Figure size 432x288 with 1 Axes>",
      "image/svg+xml": "<?xml version=\"1.0\" encoding=\"utf-8\" standalone=\"no\"?>\r\n<!DOCTYPE svg PUBLIC \"-//W3C//DTD SVG 1.1//EN\"\r\n  \"http://www.w3.org/Graphics/SVG/1.1/DTD/svg11.dtd\">\r\n<!-- Created with matplotlib (https://matplotlib.org/) -->\r\n<svg height=\"234.083344pt\" version=\"1.1\" viewBox=\"0 0 368.925 234.083344\" width=\"368.925pt\" xmlns=\"http://www.w3.org/2000/svg\" xmlns:xlink=\"http://www.w3.org/1999/xlink\">\r\n <metadata>\r\n  <rdf:RDF xmlns:cc=\"http://creativecommons.org/ns#\" xmlns:dc=\"http://purl.org/dc/elements/1.1/\" xmlns:rdf=\"http://www.w3.org/1999/02/22-rdf-syntax-ns#\">\r\n   <cc:Work>\r\n    <dc:type rdf:resource=\"http://purl.org/dc/dcmitype/StillImage\"/>\r\n    <dc:date>2021-01-05T10:59:44.400290</dc:date>\r\n    <dc:format>image/svg+xml</dc:format>\r\n    <dc:creator>\r\n     <cc:Agent>\r\n      <dc:title>Matplotlib v3.3.2, https://matplotlib.org/</dc:title>\r\n     </cc:Agent>\r\n    </dc:creator>\r\n   </cc:Work>\r\n  </rdf:RDF>\r\n </metadata>\r\n <defs>\r\n  <style type=\"text/css\">*{stroke-linecap:butt;stroke-linejoin:round;}</style>\r\n </defs>\r\n <g id=\"figure_1\">\r\n  <g id=\"patch_1\">\r\n   <path d=\"M -0 234.083344 \r\nL 368.925 234.083344 \r\nL 368.925 0 \r\nL -0 0 \r\nz\r\n\" style=\"fill:none;\"/>\r\n  </g>\r\n  <g id=\"axes_1\">\r\n   <g id=\"patch_2\">\r\n    <path d=\"M 26.925 210.205219 \r\nL 361.725 210.205219 \r\nL 361.725 9.325219 \r\nL 26.925 9.325219 \r\nz\r\n\" style=\"fill:#ffffff;\"/>\r\n   </g>\r\n   <g clip-path=\"url(#pada80b3ea3)\">\r\n    <image height=\"201\" id=\"image2cd2c84b46\" transform=\"scale(1 -1)translate(0 -201)\" width=\"335\" x=\"26.925\" xlink:href=\"data:image/png;base64,\r\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\" y=\"-9.205219\"/>\r\n   </g>\r\n   <g id=\"matplotlib.axis_1\">\r\n    <g id=\"xtick_1\">\r\n     <g id=\"line2d_1\">\r\n      <defs>\r\n       <path d=\"M 0 0 \r\nL 0 3.5 \r\n\" id=\"m4f7c19dc7f\" style=\"stroke:#000000;stroke-width:0.8;\"/>\r\n      </defs>\r\n      <g>\r\n       <use style=\"stroke:#000000;stroke-width:0.8;\" x=\"28.599\" xlink:href=\"#m4f7c19dc7f\" y=\"210.205219\"/>\r\n      </g>\r\n     </g>\r\n     <g id=\"text_1\">\r\n      <!-- 0 -->\r\n      <g transform=\"translate(25.41775 224.803656)scale(0.1 -0.1)\">\r\n       <defs>\r\n        <path d=\"M 31.78125 66.40625 \r\nQ 24.171875 66.40625 20.328125 58.90625 \r\nQ 16.5 51.421875 16.5 36.375 \r\nQ 16.5 21.390625 20.328125 13.890625 \r\nQ 24.171875 6.390625 31.78125 6.390625 \r\nQ 39.453125 6.390625 43.28125 13.890625 \r\nQ 47.125 21.390625 47.125 36.375 \r\nQ 47.125 51.421875 43.28125 58.90625 \r\nQ 39.453125 66.40625 31.78125 66.40625 \r\nz\r\nM 31.78125 74.21875 \r\nQ 44.046875 74.21875 50.515625 64.515625 \r\nQ 56.984375 54.828125 56.984375 36.375 \r\nQ 56.984375 17.96875 50.515625 8.265625 \r\nQ 44.046875 -1.421875 31.78125 -1.421875 \r\nQ 19.53125 -1.421875 13.0625 8.265625 \r\nQ 6.59375 17.96875 6.59375 36.375 \r\nQ 6.59375 54.828125 13.0625 64.515625 \r\nQ 19.53125 74.21875 31.78125 74.21875 \r\nz\r\n\" id=\"DejaVuSans-48\"/>\r\n       </defs>\r\n       <use xlink:href=\"#DejaVuSans-48\"/>\r\n      </g>\r\n     </g>\r\n    </g>\r\n    <g id=\"xtick_2\">\r\n     <g id=\"line2d_2\">\r\n      <g>\r\n       <use style=\"stroke:#000000;stroke-width:0.8;\" x=\"95.559\" xlink:href=\"#m4f7c19dc7f\" y=\"210.205219\"/>\r\n      </g>\r\n     </g>\r\n     <g id=\"text_2\">\r\n      <!-- 20 -->\r\n      <g transform=\"translate(89.1965 224.803656)scale(0.1 -0.1)\">\r\n       <defs>\r\n        <path d=\"M 19.1875 8.296875 \r\nL 53.609375 8.296875 \r\nL 53.609375 0 \r\nL 7.328125 0 \r\nL 7.328125 8.296875 \r\nQ 12.9375 14.109375 22.625 23.890625 \r\nQ 32.328125 33.6875 34.8125 36.53125 \r\nQ 39.546875 41.84375 41.421875 45.53125 \r\nQ 43.3125 49.21875 43.3125 52.78125 \r\nQ 43.3125 58.59375 39.234375 62.25 \r\nQ 35.15625 65.921875 28.609375 65.921875 \r\nQ 23.96875 65.921875 18.8125 64.3125 \r\nQ 13.671875 62.703125 7.8125 59.421875 \r\nL 7.8125 69.390625 \r\nQ 13.765625 71.78125 18.9375 73 \r\nQ 24.125 74.21875 28.421875 74.21875 \r\nQ 39.75 74.21875 46.484375 68.546875 \r\nQ 53.21875 62.890625 53.21875 53.421875 \r\nQ 53.21875 48.921875 51.53125 44.890625 \r\nQ 49.859375 40.875 45.40625 35.40625 \r\nQ 44.1875 33.984375 37.640625 27.21875 \r\nQ 31.109375 20.453125 19.1875 8.296875 \r\nz\r\n\" id=\"DejaVuSans-50\"/>\r\n       </defs>\r\n       <use xlink:href=\"#DejaVuSans-50\"/>\r\n       <use x=\"63.623047\" xlink:href=\"#DejaVuSans-48\"/>\r\n      </g>\r\n     </g>\r\n    </g>\r\n    <g id=\"xtick_3\">\r\n     <g id=\"line2d_3\">\r\n      <g>\r\n       <use style=\"stroke:#000000;stroke-width:0.8;\" x=\"162.519\" xlink:href=\"#m4f7c19dc7f\" y=\"210.205219\"/>\r\n      </g>\r\n     </g>\r\n     <g id=\"text_3\">\r\n      <!-- 40 -->\r\n      <g transform=\"translate(156.1565 224.803656)scale(0.1 -0.1)\">\r\n       <defs>\r\n        <path d=\"M 37.796875 64.3125 \r\nL 12.890625 25.390625 \r\nL 37.796875 25.390625 \r\nz\r\nM 35.203125 72.90625 \r\nL 47.609375 72.90625 \r\nL 47.609375 25.390625 \r\nL 58.015625 25.390625 \r\nL 58.015625 17.1875 \r\nL 47.609375 17.1875 \r\nL 47.609375 0 \r\nL 37.796875 0 \r\nL 37.796875 17.1875 \r\nL 4.890625 17.1875 \r\nL 4.890625 26.703125 \r\nz\r\n\" id=\"DejaVuSans-52\"/>\r\n       </defs>\r\n       <use xlink:href=\"#DejaVuSans-52\"/>\r\n       <use x=\"63.623047\" xlink:href=\"#DejaVuSans-48\"/>\r\n      </g>\r\n     </g>\r\n    </g>\r\n    <g id=\"xtick_4\">\r\n     <g id=\"line2d_4\">\r\n      <g>\r\n       <use style=\"stroke:#000000;stroke-width:0.8;\" x=\"229.479\" xlink:href=\"#m4f7c19dc7f\" y=\"210.205219\"/>\r\n      </g>\r\n     </g>\r\n     <g id=\"text_4\">\r\n      <!-- 60 -->\r\n      <g transform=\"translate(223.1165 224.803656)scale(0.1 -0.1)\">\r\n       <defs>\r\n        <path d=\"M 33.015625 40.375 \r\nQ 26.375 40.375 22.484375 35.828125 \r\nQ 18.609375 31.296875 18.609375 23.390625 \r\nQ 18.609375 15.53125 22.484375 10.953125 \r\nQ 26.375 6.390625 33.015625 6.390625 \r\nQ 39.65625 6.390625 43.53125 10.953125 \r\nQ 47.40625 15.53125 47.40625 23.390625 \r\nQ 47.40625 31.296875 43.53125 35.828125 \r\nQ 39.65625 40.375 33.015625 40.375 \r\nz\r\nM 52.59375 71.296875 \r\nL 52.59375 62.3125 \r\nQ 48.875 64.0625 45.09375 64.984375 \r\nQ 41.3125 65.921875 37.59375 65.921875 \r\nQ 27.828125 65.921875 22.671875 59.328125 \r\nQ 17.53125 52.734375 16.796875 39.40625 \r\nQ 19.671875 43.65625 24.015625 45.921875 \r\nQ 28.375 48.1875 33.59375 48.1875 \r\nQ 44.578125 48.1875 50.953125 41.515625 \r\nQ 57.328125 34.859375 57.328125 23.390625 \r\nQ 57.328125 12.15625 50.6875 5.359375 \r\nQ 44.046875 -1.421875 33.015625 -1.421875 \r\nQ 20.359375 -1.421875 13.671875 8.265625 \r\nQ 6.984375 17.96875 6.984375 36.375 \r\nQ 6.984375 53.65625 15.1875 63.9375 \r\nQ 23.390625 74.21875 37.203125 74.21875 \r\nQ 40.921875 74.21875 44.703125 73.484375 \r\nQ 48.484375 72.75 52.59375 71.296875 \r\nz\r\n\" id=\"DejaVuSans-54\"/>\r\n       </defs>\r\n       <use xlink:href=\"#DejaVuSans-54\"/>\r\n       <use x=\"63.623047\" xlink:href=\"#DejaVuSans-48\"/>\r\n      </g>\r\n     </g>\r\n    </g>\r\n    <g id=\"xtick_5\">\r\n     <g id=\"line2d_5\">\r\n      <g>\r\n       <use style=\"stroke:#000000;stroke-width:0.8;\" x=\"296.439\" xlink:href=\"#m4f7c19dc7f\" y=\"210.205219\"/>\r\n      </g>\r\n     </g>\r\n     <g id=\"text_5\">\r\n      <!-- 80 -->\r\n      <g transform=\"translate(290.0765 224.803656)scale(0.1 -0.1)\">\r\n       <defs>\r\n        <path d=\"M 31.78125 34.625 \r\nQ 24.75 34.625 20.71875 30.859375 \r\nQ 16.703125 27.09375 16.703125 20.515625 \r\nQ 16.703125 13.921875 20.71875 10.15625 \r\nQ 24.75 6.390625 31.78125 6.390625 \r\nQ 38.8125 6.390625 42.859375 10.171875 \r\nQ 46.921875 13.96875 46.921875 20.515625 \r\nQ 46.921875 27.09375 42.890625 30.859375 \r\nQ 38.875 34.625 31.78125 34.625 \r\nz\r\nM 21.921875 38.8125 \r\nQ 15.578125 40.375 12.03125 44.71875 \r\nQ 8.5 49.078125 8.5 55.328125 \r\nQ 8.5 64.0625 14.71875 69.140625 \r\nQ 20.953125 74.21875 31.78125 74.21875 \r\nQ 42.671875 74.21875 48.875 69.140625 \r\nQ 55.078125 64.0625 55.078125 55.328125 \r\nQ 55.078125 49.078125 51.53125 44.71875 \r\nQ 48 40.375 41.703125 38.8125 \r\nQ 48.828125 37.15625 52.796875 32.3125 \r\nQ 56.78125 27.484375 56.78125 20.515625 \r\nQ 56.78125 9.90625 50.3125 4.234375 \r\nQ 43.84375 -1.421875 31.78125 -1.421875 \r\nQ 19.734375 -1.421875 13.25 4.234375 \r\nQ 6.78125 9.90625 6.78125 20.515625 \r\nQ 6.78125 27.484375 10.78125 32.3125 \r\nQ 14.796875 37.15625 21.921875 38.8125 \r\nz\r\nM 18.3125 54.390625 \r\nQ 18.3125 48.734375 21.84375 45.5625 \r\nQ 25.390625 42.390625 31.78125 42.390625 \r\nQ 38.140625 42.390625 41.71875 45.5625 \r\nQ 45.3125 48.734375 45.3125 54.390625 \r\nQ 45.3125 60.0625 41.71875 63.234375 \r\nQ 38.140625 66.40625 31.78125 66.40625 \r\nQ 25.390625 66.40625 21.84375 63.234375 \r\nQ 18.3125 60.0625 18.3125 54.390625 \r\nz\r\n\" id=\"DejaVuSans-56\"/>\r\n       </defs>\r\n       <use xlink:href=\"#DejaVuSans-56\"/>\r\n       <use x=\"63.623047\" xlink:href=\"#DejaVuSans-48\"/>\r\n      </g>\r\n     </g>\r\n    </g>\r\n   </g>\r\n   <g id=\"matplotlib.axis_2\">\r\n    <g id=\"ytick_1\">\r\n     <g id=\"line2d_6\">\r\n      <defs>\r\n       <path d=\"M 0 0 \r\nL -3.5 0 \r\n\" id=\"m2552f3d6a9\" style=\"stroke:#000000;stroke-width:0.8;\"/>\r\n      </defs>\r\n      <g>\r\n       <use style=\"stroke:#000000;stroke-width:0.8;\" x=\"26.925\" xlink:href=\"#m2552f3d6a9\" y=\"10.999219\"/>\r\n      </g>\r\n     </g>\r\n     <g id=\"text_6\">\r\n      <!-- 0 -->\r\n      <g transform=\"translate(13.5625 14.798437)scale(0.1 -0.1)\">\r\n       <use xlink:href=\"#DejaVuSans-48\"/>\r\n      </g>\r\n     </g>\r\n    </g>\r\n    <g id=\"ytick_2\">\r\n     <g id=\"line2d_7\">\r\n      <g>\r\n       <use style=\"stroke:#000000;stroke-width:0.8;\" x=\"26.925\" xlink:href=\"#m2552f3d6a9\" y=\"44.479219\"/>\r\n      </g>\r\n     </g>\r\n     <g id=\"text_7\">\r\n      <!-- 10 -->\r\n      <g transform=\"translate(7.2 48.278437)scale(0.1 -0.1)\">\r\n       <defs>\r\n        <path d=\"M 12.40625 8.296875 \r\nL 28.515625 8.296875 \r\nL 28.515625 63.921875 \r\nL 10.984375 60.40625 \r\nL 10.984375 69.390625 \r\nL 28.421875 72.90625 \r\nL 38.28125 72.90625 \r\nL 38.28125 8.296875 \r\nL 54.390625 8.296875 \r\nL 54.390625 0 \r\nL 12.40625 0 \r\nz\r\n\" id=\"DejaVuSans-49\"/>\r\n       </defs>\r\n       <use xlink:href=\"#DejaVuSans-49\"/>\r\n       <use x=\"63.623047\" xlink:href=\"#DejaVuSans-48\"/>\r\n      </g>\r\n     </g>\r\n    </g>\r\n    <g id=\"ytick_3\">\r\n     <g id=\"line2d_8\">\r\n      <g>\r\n       <use style=\"stroke:#000000;stroke-width:0.8;\" x=\"26.925\" xlink:href=\"#m2552f3d6a9\" y=\"77.959219\"/>\r\n      </g>\r\n     </g>\r\n     <g id=\"text_8\">\r\n      <!-- 20 -->\r\n      <g transform=\"translate(7.2 81.758437)scale(0.1 -0.1)\">\r\n       <use xlink:href=\"#DejaVuSans-50\"/>\r\n       <use x=\"63.623047\" xlink:href=\"#DejaVuSans-48\"/>\r\n      </g>\r\n     </g>\r\n    </g>\r\n    <g id=\"ytick_4\">\r\n     <g id=\"line2d_9\">\r\n      <g>\r\n       <use style=\"stroke:#000000;stroke-width:0.8;\" x=\"26.925\" xlink:href=\"#m2552f3d6a9\" y=\"111.439219\"/>\r\n      </g>\r\n     </g>\r\n     <g id=\"text_9\">\r\n      <!-- 30 -->\r\n      <g transform=\"translate(7.2 115.238437)scale(0.1 -0.1)\">\r\n       <defs>\r\n        <path d=\"M 40.578125 39.3125 \r\nQ 47.65625 37.796875 51.625 33 \r\nQ 55.609375 28.21875 55.609375 21.1875 \r\nQ 55.609375 10.40625 48.1875 4.484375 \r\nQ 40.765625 -1.421875 27.09375 -1.421875 \r\nQ 22.515625 -1.421875 17.65625 -0.515625 \r\nQ 12.796875 0.390625 7.625 2.203125 \r\nL 7.625 11.71875 \r\nQ 11.71875 9.328125 16.59375 8.109375 \r\nQ 21.484375 6.890625 26.8125 6.890625 \r\nQ 36.078125 6.890625 40.9375 10.546875 \r\nQ 45.796875 14.203125 45.796875 21.1875 \r\nQ 45.796875 27.640625 41.28125 31.265625 \r\nQ 36.765625 34.90625 28.71875 34.90625 \r\nL 20.21875 34.90625 \r\nL 20.21875 43.015625 \r\nL 29.109375 43.015625 \r\nQ 36.375 43.015625 40.234375 45.921875 \r\nQ 44.09375 48.828125 44.09375 54.296875 \r\nQ 44.09375 59.90625 40.109375 62.90625 \r\nQ 36.140625 65.921875 28.71875 65.921875 \r\nQ 24.65625 65.921875 20.015625 65.03125 \r\nQ 15.375 64.15625 9.8125 62.3125 \r\nL 9.8125 71.09375 \r\nQ 15.4375 72.65625 20.34375 73.4375 \r\nQ 25.25 74.21875 29.59375 74.21875 \r\nQ 40.828125 74.21875 47.359375 69.109375 \r\nQ 53.90625 64.015625 53.90625 55.328125 \r\nQ 53.90625 49.265625 50.4375 45.09375 \r\nQ 46.96875 40.921875 40.578125 39.3125 \r\nz\r\n\" id=\"DejaVuSans-51\"/>\r\n       </defs>\r\n       <use xlink:href=\"#DejaVuSans-51\"/>\r\n       <use x=\"63.623047\" xlink:href=\"#DejaVuSans-48\"/>\r\n      </g>\r\n     </g>\r\n    </g>\r\n    <g id=\"ytick_5\">\r\n     <g id=\"line2d_10\">\r\n      <g>\r\n       <use style=\"stroke:#000000;stroke-width:0.8;\" x=\"26.925\" xlink:href=\"#m2552f3d6a9\" y=\"144.919219\"/>\r\n      </g>\r\n     </g>\r\n     <g id=\"text_10\">\r\n      <!-- 40 -->\r\n      <g transform=\"translate(7.2 148.718437)scale(0.1 -0.1)\">\r\n       <use xlink:href=\"#DejaVuSans-52\"/>\r\n       <use x=\"63.623047\" xlink:href=\"#DejaVuSans-48\"/>\r\n      </g>\r\n     </g>\r\n    </g>\r\n    <g id=\"ytick_6\">\r\n     <g id=\"line2d_11\">\r\n      <g>\r\n       <use style=\"stroke:#000000;stroke-width:0.8;\" x=\"26.925\" xlink:href=\"#m2552f3d6a9\" y=\"178.399219\"/>\r\n      </g>\r\n     </g>\r\n     <g id=\"text_11\">\r\n      <!-- 50 -->\r\n      <g transform=\"translate(7.2 182.198437)scale(0.1 -0.1)\">\r\n       <defs>\r\n        <path d=\"M 10.796875 72.90625 \r\nL 49.515625 72.90625 \r\nL 49.515625 64.59375 \r\nL 19.828125 64.59375 \r\nL 19.828125 46.734375 \r\nQ 21.96875 47.46875 24.109375 47.828125 \r\nQ 26.265625 48.1875 28.421875 48.1875 \r\nQ 40.625 48.1875 47.75 41.5 \r\nQ 54.890625 34.8125 54.890625 23.390625 \r\nQ 54.890625 11.625 47.5625 5.09375 \r\nQ 40.234375 -1.421875 26.90625 -1.421875 \r\nQ 22.3125 -1.421875 17.546875 -0.640625 \r\nQ 12.796875 0.140625 7.71875 1.703125 \r\nL 7.71875 11.625 \r\nQ 12.109375 9.234375 16.796875 8.0625 \r\nQ 21.484375 6.890625 26.703125 6.890625 \r\nQ 35.15625 6.890625 40.078125 11.328125 \r\nQ 45.015625 15.765625 45.015625 23.390625 \r\nQ 45.015625 31 40.078125 35.4375 \r\nQ 35.15625 39.890625 26.703125 39.890625 \r\nQ 22.75 39.890625 18.8125 39.015625 \r\nQ 14.890625 38.140625 10.796875 36.28125 \r\nz\r\n\" id=\"DejaVuSans-53\"/>\r\n       </defs>\r\n       <use xlink:href=\"#DejaVuSans-53\"/>\r\n       <use x=\"63.623047\" xlink:href=\"#DejaVuSans-48\"/>\r\n      </g>\r\n     </g>\r\n    </g>\r\n   </g>\r\n   <g id=\"patch_3\">\r\n    <path d=\"M 26.925 210.205219 \r\nL 26.925 9.325219 \r\n\" style=\"fill:none;stroke:#000000;stroke-linecap:square;stroke-linejoin:miter;stroke-width:0.8;\"/>\r\n   </g>\r\n   <g id=\"patch_4\">\r\n    <path d=\"M 361.725 210.205219 \r\nL 361.725 9.325219 \r\n\" style=\"fill:none;stroke:#000000;stroke-linecap:square;stroke-linejoin:miter;stroke-width:0.8;\"/>\r\n   </g>\r\n   <g id=\"patch_5\">\r\n    <path d=\"M 26.925 210.205219 \r\nL 361.725 210.205219 \r\n\" style=\"fill:none;stroke:#000000;stroke-linecap:square;stroke-linejoin:miter;stroke-width:0.8;\"/>\r\n   </g>\r\n   <g id=\"patch_6\">\r\n    <path d=\"M 26.925 9.325219 \r\nL 361.725 9.325219 \r\n\" style=\"fill:none;stroke:#000000;stroke-linecap:square;stroke-linejoin:miter;stroke-width:0.8;\"/>\r\n   </g>\r\n  </g>\r\n </g>\r\n <defs>\r\n  <clipPath id=\"pada80b3ea3\">\r\n   <rect height=\"200.88\" width=\"334.8\" x=\"26.925\" y=\"9.325219\"/>\r\n  </clipPath>\r\n </defs>\r\n</svg>\r\n",
      "image/png": "[encoded data removed]"
     },
     "metadata": {
      "needs_background": "light"
     }
    }
   ],
   "source": [
    "print(X[0])\n",
    "fig = plt.imshow(X[0])\n",
    "print(Y[0])\n",
    "print(Y_cat[0])\n",
    "print(len(X),len(Y_cat))"
   ]
  },
  {
   "cell_type": "code",
   "execution_count": 14,
   "metadata": {},
   "outputs": [],
   "source": [
    "from keras import Sequential\n",
    "from keras.layers import MaxPooling2D, Flatten, Dropout, Conv2D\n",
    "from keras.layers import LeakyReLU\n",
    "from keras.layers.core import Dense, Activation\n",
    "import keras.layers\n",
    "from keras import optimizers\n",
    "from keras import initializers\n"
   ]
  },
  {
   "cell_type": "code",
   "execution_count": 15,
   "metadata": {},
   "outputs": [
    {
     "output_type": "stream",
     "name": "stdout",
     "text": [
      "(16,)\n(64457, 60, 100)\n(64457, 60, 100, 1)\n"
     ]
    }
   ],
   "source": [
    "newShape = (X.shape[0],X.shape[1],X.shape[2],1)\n",
    "newShape_test = (X_test.shape[0],X_test.shape[1],X_test.shape[2],1)\n",
    "print(np.shape(Y_cat[0]))\n",
    "print(X.shape)\n",
    "X_r= X.reshape(newShape)\n",
    "print(X_r.shape)\n",
    "X_test = X_test.reshape(newShape_test)"
   ]
  },
  {
   "cell_type": "code",
   "execution_count": 22,
   "metadata": {},
   "outputs": [],
   "source": [
    "input_shape = X_r[0].shape\n",
    "output_shape = Y_cat.shape[-1]\n",
    "normal_init = initializers.RandomNormal(stddev=0.2)\n",
    "normal_init_2 = initializers.RandomNormal(stddev=0.5)\n",
    "\n",
    "\n",
    "model = Sequential()\n",
    "model.add(Conv2D(64,(3,3),activation = \"swish\", input_shape=input_shape, padding='same'))\n",
    "model.add(Conv2D(32,(6,6), activation=\"swish\", input_shape=input_shape, padding='same'))\n",
    "model.add(Flatten())\n",
    "model.add(Dropout(0.3))\n",
    "model.add(Dense(512))\n",
    "model.add(LeakyReLU(alpha=0.2))\n",
    "model.add(Dense(output_shape,activation=\"softmax\"))\n",
    "\n",
    "model.compile(optimizer=optimizers.Adam(learning_rate=0.00025,amsgrad=True),loss='categorical_crossentropy', metrics=['accuracy'])\n",
    "\n"
   ]
  },
  {
   "cell_type": "code",
   "execution_count": 23,
   "metadata": {},
   "outputs": [
    {
     "output_type": "stream",
     "name": "stdout",
     "text": [
      "64457 64457\n"
     ]
    }
   ],
   "source": [
    "print(len(X_r),len(Y_cat))\n",
    "Y_cat = np.array(Y_cat)"
   ]
  },
  {
   "cell_type": "code",
   "execution_count": 24,
   "metadata": {},
   "outputs": [
    {
     "output_type": "stream",
     "name": "stdout",
     "text": [
      "   1/2015 [..............................] - ETA: 22s - loss: 2.7747 - accuracy: 0.0000e+00WARNING:tensorflow:Callbacks method `on_train_batch_end` is slow compared to the batch time (batch time: 0.0080s vs `on_train_batch_end` time: 0.0371s). Check your callbacks.\n",
      "2015/2015 [==============================] - 101s 50ms/step - loss: 1.1437 - accuracy: 0.6451 - val_loss: 1.1598 - val_accuracy: 0.6709\n",
      "Epoch 1/5\n",
      "   2/1290 [..............................] - ETA: 50s - loss: 0.6220 - accuracy: 0.8300WARNING:tensorflow:Callbacks method `on_train_batch_end` is slow compared to the batch time (batch time: 0.0130s vs `on_train_batch_end` time: 0.0481s). Check your callbacks.\n",
      "1290/1290 [==============================] - 87s 67ms/step - loss: 0.4491 - accuracy: 0.8623 - val_loss: 1.0327 - val_accuracy: 0.7490\n",
      "Epoch 2/5\n",
      "1290/1290 [==============================] - 86s 67ms/step - loss: 0.2955 - accuracy: 0.9079 - val_loss: 1.0371 - val_accuracy: 0.7767\n",
      "Epoch 3/5\n",
      "1290/1290 [==============================] - 86s 67ms/step - loss: 0.2044 - accuracy: 0.9354 - val_loss: 1.2185 - val_accuracy: 0.7767\n",
      "Epoch 4/5\n",
      "1290/1290 [==============================] - 86s 67ms/step - loss: 0.1433 - accuracy: 0.9548 - val_loss: 1.2145 - val_accuracy: 0.7913\n",
      "Epoch 5/5\n",
      "1290/1290 [==============================] - 88s 68ms/step - loss: 0.1076 - accuracy: 0.9662 - val_loss: 1.2580 - val_accuracy: 0.7999\n"
     ]
    }
   ],
   "source": [
    "history = model.fit(X_r, Y_cat,epochs=1,validation_data=(X_test,Y_test_cat))\n",
    "history = model.fit(X_r, Y_cat,epochs=5,batch_size=50,validation_data=(X_test,Y_test_cat))"
   ]
  },
  {
   "cell_type": "code",
   "execution_count": null,
   "metadata": {},
   "outputs": [],
   "source": []
  }
 ]
}